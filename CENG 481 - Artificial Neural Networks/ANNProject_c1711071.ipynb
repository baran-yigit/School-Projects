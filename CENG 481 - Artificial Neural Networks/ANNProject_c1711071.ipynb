{
 "cells": [
  {
   "cell_type": "code",
   "execution_count": null,
   "metadata": {
    "id": "J63NWzpPBO4s"
   },
   "outputs": [],
   "source": [
    "from __future__ import print_function\n",
    "import numpy as np\n",
    "import matplotlib.pyplot as plt\n",
    "import pandas as pd \n",
    "import cv2\n",
    "import tensorflow as tf\n",
    "from tensorflow import keras\n",
    "import matplotlib.pyplot as plt\n",
    "from keras.models import Sequential\n",
    "from tensorflow.keras import layers\n",
    "from tensorflow.keras import Sequential\n",
    "from keras.layers import Dense , Activation, Dropout, Conv2D, Flatten, MaxPooling2D, GlobalAveragePooling2D\n",
    "from tensorflow.keras.optimizers import Adam, RMSprop\n",
    "from tensorflow.keras.metrics import AUC, Accuracy\n",
    "from tensorflow.keras.utils import to_categorical, plot_model\n",
    "import os, datetime\n",
    "from sklearn.model_selection import train_test_split\n",
    "from keras.preprocessing.image import ImageDataGenerator, img_to_array\n",
    "from imblearn.over_sampling import SMOTE\n",
    "from keras.regularizers import l2\n",
    "from keras.callbacks import ReduceLROnPlateau, EarlyStopping\n",
    "from keras.layers.normalization.batch_normalization import BatchNormalization\n",
    "from tensorflow.keras import backend as K\n",
    "from random import randint, seed\n",
    "from datetime import datetime\n",
    "K.clear_session()"
   ]
  },
  {
   "cell_type": "code",
   "execution_count": null,
   "metadata": {
    "id": "nceJiPGdSa2f"
   },
   "outputs": [],
   "source": [
    "from google.colab import drive\n",
    "drive.mount('/content/drive')"
   ]
  },
  {
   "cell_type": "code",
   "execution_count": null,
   "metadata": {
    "id": "U-03K3qpE8HO"
   },
   "outputs": [],
   "source": [
    "train_df = pd.read_csv('input/plant-pathology-2020-fgvc7/train.csv')\n",
    "test_df = pd.read_csv('input/plant-pathology-2020-fgvc7/test.csv')"
   ]
  },
  {
   "cell_type": "code",
   "execution_count": null,
   "metadata": {
    "colab": {
     "base_uri": "https://localhost:8080/",
     "height": 206
    },
    "id": "ln3P9-hwE8I-",
    "outputId": "e47cb3af-f1eb-4d35-bb1d-2cadc6af38a8"
   },
   "outputs": [
    {
     "data": {
      "text/html": [
       "\n",
       "  <div id=\"df-a4d78429-9400-4c8a-a805-c6d9a8ff0d3c\">\n",
       "    <div class=\"colab-df-container\">\n",
       "      <div>\n",
       "<style scoped>\n",
       "    .dataframe tbody tr th:only-of-type {\n",
       "        vertical-align: middle;\n",
       "    }\n",
       "\n",
       "    .dataframe tbody tr th {\n",
       "        vertical-align: top;\n",
       "    }\n",
       "\n",
       "    .dataframe thead th {\n",
       "        text-align: right;\n",
       "    }\n",
       "</style>\n",
       "<table border=\"1\" class=\"dataframe\">\n",
       "  <thead>\n",
       "    <tr style=\"text-align: right;\">\n",
       "      <th></th>\n",
       "      <th>image_id</th>\n",
       "      <th>healthy</th>\n",
       "      <th>multiple_diseases</th>\n",
       "      <th>rust</th>\n",
       "      <th>scab</th>\n",
       "    </tr>\n",
       "  </thead>\n",
       "  <tbody>\n",
       "    <tr>\n",
       "      <th>0</th>\n",
       "      <td>Train_0</td>\n",
       "      <td>0</td>\n",
       "      <td>0</td>\n",
       "      <td>0</td>\n",
       "      <td>1</td>\n",
       "    </tr>\n",
       "    <tr>\n",
       "      <th>1</th>\n",
       "      <td>Train_1</td>\n",
       "      <td>0</td>\n",
       "      <td>1</td>\n",
       "      <td>0</td>\n",
       "      <td>0</td>\n",
       "    </tr>\n",
       "    <tr>\n",
       "      <th>2</th>\n",
       "      <td>Train_2</td>\n",
       "      <td>1</td>\n",
       "      <td>0</td>\n",
       "      <td>0</td>\n",
       "      <td>0</td>\n",
       "    </tr>\n",
       "    <tr>\n",
       "      <th>3</th>\n",
       "      <td>Train_3</td>\n",
       "      <td>0</td>\n",
       "      <td>0</td>\n",
       "      <td>1</td>\n",
       "      <td>0</td>\n",
       "    </tr>\n",
       "    <tr>\n",
       "      <th>4</th>\n",
       "      <td>Train_4</td>\n",
       "      <td>1</td>\n",
       "      <td>0</td>\n",
       "      <td>0</td>\n",
       "      <td>0</td>\n",
       "    </tr>\n",
       "  </tbody>\n",
       "</table>\n",
       "</div>\n",
       "      <button class=\"colab-df-convert\" onclick=\"convertToInteractive('df-a4d78429-9400-4c8a-a805-c6d9a8ff0d3c')\"\n",
       "              title=\"Convert this dataframe to an interactive table.\"\n",
       "              style=\"display:none;\">\n",
       "        \n",
       "  <svg xmlns=\"http://www.w3.org/2000/svg\" height=\"24px\"viewBox=\"0 0 24 24\"\n",
       "       width=\"24px\">\n",
       "    <path d=\"M0 0h24v24H0V0z\" fill=\"none\"/>\n",
       "    <path d=\"M18.56 5.44l.94 2.06.94-2.06 2.06-.94-2.06-.94-.94-2.06-.94 2.06-2.06.94zm-11 1L8.5 8.5l.94-2.06 2.06-.94-2.06-.94L8.5 2.5l-.94 2.06-2.06.94zm10 10l.94 2.06.94-2.06 2.06-.94-2.06-.94-.94-2.06-.94 2.06-2.06.94z\"/><path d=\"M17.41 7.96l-1.37-1.37c-.4-.4-.92-.59-1.43-.59-.52 0-1.04.2-1.43.59L10.3 9.45l-7.72 7.72c-.78.78-.78 2.05 0 2.83L4 21.41c.39.39.9.59 1.41.59.51 0 1.02-.2 1.41-.59l7.78-7.78 2.81-2.81c.8-.78.8-2.07 0-2.86zM5.41 20L4 18.59l7.72-7.72 1.47 1.35L5.41 20z\"/>\n",
       "  </svg>\n",
       "      </button>\n",
       "      \n",
       "  <style>\n",
       "    .colab-df-container {\n",
       "      display:flex;\n",
       "      flex-wrap:wrap;\n",
       "      gap: 12px;\n",
       "    }\n",
       "\n",
       "    .colab-df-convert {\n",
       "      background-color: #E8F0FE;\n",
       "      border: none;\n",
       "      border-radius: 50%;\n",
       "      cursor: pointer;\n",
       "      display: none;\n",
       "      fill: #1967D2;\n",
       "      height: 32px;\n",
       "      padding: 0 0 0 0;\n",
       "      width: 32px;\n",
       "    }\n",
       "\n",
       "    .colab-df-convert:hover {\n",
       "      background-color: #E2EBFA;\n",
       "      box-shadow: 0px 1px 2px rgba(60, 64, 67, 0.3), 0px 1px 3px 1px rgba(60, 64, 67, 0.15);\n",
       "      fill: #174EA6;\n",
       "    }\n",
       "\n",
       "    [theme=dark] .colab-df-convert {\n",
       "      background-color: #3B4455;\n",
       "      fill: #D2E3FC;\n",
       "    }\n",
       "\n",
       "    [theme=dark] .colab-df-convert:hover {\n",
       "      background-color: #434B5C;\n",
       "      box-shadow: 0px 1px 3px 1px rgba(0, 0, 0, 0.15);\n",
       "      filter: drop-shadow(0px 1px 2px rgba(0, 0, 0, 0.3));\n",
       "      fill: #FFFFFF;\n",
       "    }\n",
       "  </style>\n",
       "\n",
       "      <script>\n",
       "        const buttonEl =\n",
       "          document.querySelector('#df-a4d78429-9400-4c8a-a805-c6d9a8ff0d3c button.colab-df-convert');\n",
       "        buttonEl.style.display =\n",
       "          google.colab.kernel.accessAllowed ? 'block' : 'none';\n",
       "\n",
       "        async function convertToInteractive(key) {\n",
       "          const element = document.querySelector('#df-a4d78429-9400-4c8a-a805-c6d9a8ff0d3c');\n",
       "          const dataTable =\n",
       "            await google.colab.kernel.invokeFunction('convertToInteractive',\n",
       "                                                     [key], {});\n",
       "          if (!dataTable) return;\n",
       "\n",
       "          const docLinkHtml = 'Like what you see? Visit the ' +\n",
       "            '<a target=\"_blank\" href=https://colab.research.google.com/notebooks/data_table.ipynb>data table notebook</a>'\n",
       "            + ' to learn more about interactive tables.';\n",
       "          element.innerHTML = '';\n",
       "          dataTable['output_type'] = 'display_data';\n",
       "          await google.colab.output.renderOutput(dataTable, element);\n",
       "          const docLink = document.createElement('div');\n",
       "          docLink.innerHTML = docLinkHtml;\n",
       "          element.appendChild(docLink);\n",
       "        }\n",
       "      </script>\n",
       "    </div>\n",
       "  </div>\n",
       "  "
      ],
      "text/plain": [
       "  image_id  healthy  multiple_diseases  rust  scab\n",
       "0  Train_0        0                  0     0     1\n",
       "1  Train_1        0                  1     0     0\n",
       "2  Train_2        1                  0     0     0\n",
       "3  Train_3        0                  0     1     0\n",
       "4  Train_4        1                  0     0     0"
      ]
     },
     "execution_count": 3,
     "metadata": {},
     "output_type": "execute_result"
    }
   ],
   "source": [
    "train_df.head()"
   ]
  },
  {
   "cell_type": "code",
   "execution_count": null,
   "metadata": {
    "id": "g6oqYivdE8Kl"
   },
   "outputs": [],
   "source": [
    "train_df['label'] = train_df.apply(lambda x: np.argmax(x[1:]),axis=1)"
   ]
  },
  {
   "cell_type": "code",
   "execution_count": null,
   "metadata": {
    "colab": {
     "base_uri": "https://localhost:8080/",
     "height": 206
    },
    "id": "z1VnGGN0E8MS",
    "outputId": "63092dd9-6fd9-47c4-f819-e80caf2508c2"
   },
   "outputs": [
    {
     "data": {
      "text/html": [
       "\n",
       "  <div id=\"df-102fb0e9-138a-420c-a520-cecf874f5669\">\n",
       "    <div class=\"colab-df-container\">\n",
       "      <div>\n",
       "<style scoped>\n",
       "    .dataframe tbody tr th:only-of-type {\n",
       "        vertical-align: middle;\n",
       "    }\n",
       "\n",
       "    .dataframe tbody tr th {\n",
       "        vertical-align: top;\n",
       "    }\n",
       "\n",
       "    .dataframe thead th {\n",
       "        text-align: right;\n",
       "    }\n",
       "</style>\n",
       "<table border=\"1\" class=\"dataframe\">\n",
       "  <thead>\n",
       "    <tr style=\"text-align: right;\">\n",
       "      <th></th>\n",
       "      <th>image_id</th>\n",
       "      <th>healthy</th>\n",
       "      <th>multiple_diseases</th>\n",
       "      <th>rust</th>\n",
       "      <th>scab</th>\n",
       "      <th>label</th>\n",
       "    </tr>\n",
       "  </thead>\n",
       "  <tbody>\n",
       "    <tr>\n",
       "      <th>0</th>\n",
       "      <td>Train_0</td>\n",
       "      <td>0</td>\n",
       "      <td>0</td>\n",
       "      <td>0</td>\n",
       "      <td>1</td>\n",
       "      <td>3</td>\n",
       "    </tr>\n",
       "    <tr>\n",
       "      <th>1</th>\n",
       "      <td>Train_1</td>\n",
       "      <td>0</td>\n",
       "      <td>1</td>\n",
       "      <td>0</td>\n",
       "      <td>0</td>\n",
       "      <td>1</td>\n",
       "    </tr>\n",
       "    <tr>\n",
       "      <th>2</th>\n",
       "      <td>Train_2</td>\n",
       "      <td>1</td>\n",
       "      <td>0</td>\n",
       "      <td>0</td>\n",
       "      <td>0</td>\n",
       "      <td>0</td>\n",
       "    </tr>\n",
       "    <tr>\n",
       "      <th>3</th>\n",
       "      <td>Train_3</td>\n",
       "      <td>0</td>\n",
       "      <td>0</td>\n",
       "      <td>1</td>\n",
       "      <td>0</td>\n",
       "      <td>2</td>\n",
       "    </tr>\n",
       "    <tr>\n",
       "      <th>4</th>\n",
       "      <td>Train_4</td>\n",
       "      <td>1</td>\n",
       "      <td>0</td>\n",
       "      <td>0</td>\n",
       "      <td>0</td>\n",
       "      <td>0</td>\n",
       "    </tr>\n",
       "  </tbody>\n",
       "</table>\n",
       "</div>\n",
       "      <button class=\"colab-df-convert\" onclick=\"convertToInteractive('df-102fb0e9-138a-420c-a520-cecf874f5669')\"\n",
       "              title=\"Convert this dataframe to an interactive table.\"\n",
       "              style=\"display:none;\">\n",
       "        \n",
       "  <svg xmlns=\"http://www.w3.org/2000/svg\" height=\"24px\"viewBox=\"0 0 24 24\"\n",
       "       width=\"24px\">\n",
       "    <path d=\"M0 0h24v24H0V0z\" fill=\"none\"/>\n",
       "    <path d=\"M18.56 5.44l.94 2.06.94-2.06 2.06-.94-2.06-.94-.94-2.06-.94 2.06-2.06.94zm-11 1L8.5 8.5l.94-2.06 2.06-.94-2.06-.94L8.5 2.5l-.94 2.06-2.06.94zm10 10l.94 2.06.94-2.06 2.06-.94-2.06-.94-.94-2.06-.94 2.06-2.06.94z\"/><path d=\"M17.41 7.96l-1.37-1.37c-.4-.4-.92-.59-1.43-.59-.52 0-1.04.2-1.43.59L10.3 9.45l-7.72 7.72c-.78.78-.78 2.05 0 2.83L4 21.41c.39.39.9.59 1.41.59.51 0 1.02-.2 1.41-.59l7.78-7.78 2.81-2.81c.8-.78.8-2.07 0-2.86zM5.41 20L4 18.59l7.72-7.72 1.47 1.35L5.41 20z\"/>\n",
       "  </svg>\n",
       "      </button>\n",
       "      \n",
       "  <style>\n",
       "    .colab-df-container {\n",
       "      display:flex;\n",
       "      flex-wrap:wrap;\n",
       "      gap: 12px;\n",
       "    }\n",
       "\n",
       "    .colab-df-convert {\n",
       "      background-color: #E8F0FE;\n",
       "      border: none;\n",
       "      border-radius: 50%;\n",
       "      cursor: pointer;\n",
       "      display: none;\n",
       "      fill: #1967D2;\n",
       "      height: 32px;\n",
       "      padding: 0 0 0 0;\n",
       "      width: 32px;\n",
       "    }\n",
       "\n",
       "    .colab-df-convert:hover {\n",
       "      background-color: #E2EBFA;\n",
       "      box-shadow: 0px 1px 2px rgba(60, 64, 67, 0.3), 0px 1px 3px 1px rgba(60, 64, 67, 0.15);\n",
       "      fill: #174EA6;\n",
       "    }\n",
       "\n",
       "    [theme=dark] .colab-df-convert {\n",
       "      background-color: #3B4455;\n",
       "      fill: #D2E3FC;\n",
       "    }\n",
       "\n",
       "    [theme=dark] .colab-df-convert:hover {\n",
       "      background-color: #434B5C;\n",
       "      box-shadow: 0px 1px 3px 1px rgba(0, 0, 0, 0.15);\n",
       "      filter: drop-shadow(0px 1px 2px rgba(0, 0, 0, 0.3));\n",
       "      fill: #FFFFFF;\n",
       "    }\n",
       "  </style>\n",
       "\n",
       "      <script>\n",
       "        const buttonEl =\n",
       "          document.querySelector('#df-102fb0e9-138a-420c-a520-cecf874f5669 button.colab-df-convert');\n",
       "        buttonEl.style.display =\n",
       "          google.colab.kernel.accessAllowed ? 'block' : 'none';\n",
       "\n",
       "        async function convertToInteractive(key) {\n",
       "          const element = document.querySelector('#df-102fb0e9-138a-420c-a520-cecf874f5669');\n",
       "          const dataTable =\n",
       "            await google.colab.kernel.invokeFunction('convertToInteractive',\n",
       "                                                     [key], {});\n",
       "          if (!dataTable) return;\n",
       "\n",
       "          const docLinkHtml = 'Like what you see? Visit the ' +\n",
       "            '<a target=\"_blank\" href=https://colab.research.google.com/notebooks/data_table.ipynb>data table notebook</a>'\n",
       "            + ' to learn more about interactive tables.';\n",
       "          element.innerHTML = '';\n",
       "          dataTable['output_type'] = 'display_data';\n",
       "          await google.colab.output.renderOutput(dataTable, element);\n",
       "          const docLink = document.createElement('div');\n",
       "          docLink.innerHTML = docLinkHtml;\n",
       "          element.appendChild(docLink);\n",
       "        }\n",
       "      </script>\n",
       "    </div>\n",
       "  </div>\n",
       "  "
      ],
      "text/plain": [
       "  image_id  healthy  multiple_diseases  rust  scab  label\n",
       "0  Train_0        0                  0     0     1      3\n",
       "1  Train_1        0                  1     0     0      1\n",
       "2  Train_2        1                  0     0     0      0\n",
       "3  Train_3        0                  0     1     0      2\n",
       "4  Train_4        1                  0     0     0      0"
      ]
     },
     "execution_count": 5,
     "metadata": {},
     "output_type": "execute_result"
    }
   ],
   "source": [
    "train_df.head()"
   ]
  },
  {
   "cell_type": "code",
   "execution_count": null,
   "metadata": {
    "id": "2hJuSsIcE8OG"
   },
   "outputs": [],
   "source": [
    "from PIL import Image\n",
    "img = Image.open('input/plant-pathology-2020-fgvc7/images/Train_0.jpg')\n",
    "nparr  = np.asarray(img)"
   ]
  },
  {
   "cell_type": "code",
   "execution_count": null,
   "metadata": {
    "colab": {
     "base_uri": "https://localhost:8080/"
    },
    "id": "7AuUIbKeFNVX",
    "outputId": "b650f09b-4a84-4cc0-b21e-562a68353c4b"
   },
   "outputs": [
    {
     "data": {
      "text/plain": [
       "(1365, 2048, 3)"
      ]
     },
     "execution_count": 7,
     "metadata": {},
     "output_type": "execute_result"
    }
   ],
   "source": [
    "nparr.shape"
   ]
  },
  {
   "cell_type": "code",
   "execution_count": null,
   "metadata": {
    "id": "qU8tbqT5FNW8"
   },
   "outputs": [],
   "source": [
    "import os\n",
    "label_encode = {0:\"healthy\",1:\"multiple_diseases\",2:\"rust\",3:\"scab\"}"
   ]
  },
  {
   "cell_type": "code",
   "execution_count": null,
   "metadata": {
    "colab": {
     "base_uri": "https://localhost:8080/"
    },
    "id": "gqq2j1AqFNYl",
    "outputId": "b3c1be00-2f55-4f73-8097-38510f01f889"
   },
   "outputs": [
    {
     "data": {
      "text/plain": [
       "(1821, 6)"
      ]
     },
     "execution_count": 9,
     "metadata": {},
     "output_type": "execute_result"
    }
   ],
   "source": [
    "train_df.shape"
   ]
  },
  {
   "cell_type": "code",
   "execution_count": null,
   "metadata": {
    "colab": {
     "base_uri": "https://localhost:8080/",
     "height": 36
    },
    "id": "M-Ip6bfuFNaW",
    "outputId": "6be6ba5a-8e7d-475e-a433-599011e2a4b7"
   },
   "outputs": [
    {
     "data": {
      "application/vnd.google.colaboratory.intrinsic+json": {
       "type": "string"
      },
      "text/plain": [
       "'Train_0'"
      ]
     },
     "execution_count": 10,
     "metadata": {},
     "output_type": "execute_result"
    }
   ],
   "source": [
    "train_df.iloc[0]['image_id']"
   ]
  },
  {
   "cell_type": "code",
   "execution_count": null,
   "metadata": {
    "id": "hGuV6jIXFNb_"
   },
   "outputs": [],
   "source": [
    "from sklearn.model_selection import train_test_split\n",
    "\n",
    "train_df,validate_df = train_test_split(train_df,test_size=0.2)"
   ]
  },
  {
   "cell_type": "code",
   "execution_count": null,
   "metadata": {
    "id": "-xRM798-FNdk"
   },
   "outputs": [],
   "source": [
    "new_img_size = (224,224)"
   ]
  },
  {
   "cell_type": "code",
   "execution_count": null,
   "metadata": {
    "id": "uNkaOUzdFNfQ"
   },
   "outputs": [],
   "source": [
    "img = Image.open(f'input/plant-pathology-2020-fgvc7/images/{train_df.iloc[0][\"image_id\"]}.jpg')\n",
    "img=img.resize(new_img_size)\n",
    "images_train = np.array([np.asarray(img)])\n",
    "\n",
    "for i in range(1,train_df.shape[0]):\n",
    "    img = Image.open(f'input/plant-pathology-2020-fgvc7/images/{train_df.iloc[i][\"image_id\"]}.jpg')\n",
    "    img = img.resize(new_img_size)\n",
    "    images_train = np.concatenate((images_train,np.array([np.asarray(img)])),axis=0)"
   ]
  },
  {
   "cell_type": "code",
   "execution_count": null,
   "metadata": {
    "id": "utAT2fQkFNnN"
   },
   "outputs": [],
   "source": [
    "img = Image.open(f'input/plant-pathology-2020-fgvc7/images/{validate_df.iloc[0][\"image_id\"]}.jpg')\n",
    "img=img.resize(new_img_size)\n",
    "images_validate = np.array([np.asarray(img)])\n",
    "for i in range(1,validate_df.shape[0]):\n",
    "    img = Image.open(f'input/plant-pathology-2020-fgvc7/images/{validate_df.iloc[i][\"image_id\"]}.jpg')\n",
    "    img = img.resize(new_img_size)\n",
    "    images_validate = np.concatenate((images_validate,np.array([np.asarray(img)])),axis=0)"
   ]
  },
  {
   "cell_type": "code",
   "execution_count": null,
   "metadata": {
    "id": "nsGF7-lHFNo9"
   },
   "outputs": [],
   "source": [
    "img = Image.open(f'input/plant-pathology-2020-fgvc7/images/{test_df.iloc[0][\"image_id\"]}.jpg')\n",
    "img=img.resize(new_img_size)\n",
    "images_test = np.array([np.asarray(img)])\n",
    "for i in range(1,test_df.shape[0]):\n",
    "    img = Image.open(f'input/plant-pathology-2020-fgvc7/images/{test_df.iloc[i][\"image_id\"]}.jpg')\n",
    "    img = img.resize(new_img_size)\n",
    "    images_test = np.concatenate((images_test,np.array([np.asarray(img)])),axis=0)"
   ]
  },
  {
   "cell_type": "code",
   "execution_count": null,
   "metadata": {
    "colab": {
     "base_uri": "https://localhost:8080/"
    },
    "id": "lQvZgQWPGCrO",
    "outputId": "64b44388-0a9e-400d-c5c6-669cb4c12ccb"
   },
   "outputs": [
    {
     "name": "stdout",
     "output_type": "stream",
     "text": [
      "Training set is of shape :  (1456, 224, 224, 3)\n",
      "Validation set is of shape :  (365, 224, 224, 3)\n",
      "Test set is of shape :  (1821, 224, 224, 3)\n"
     ]
    }
   ],
   "source": [
    "print(\"Training set is of shape : \",images_train.shape)\n",
    "print(\"Validation set is of shape : \",images_validate.shape)\n",
    "print(\"Test set is of shape : \",images_test.shape)"
   ]
  },
  {
   "cell_type": "code",
   "execution_count": null,
   "metadata": {
    "id": "JKbsnGTaGCyN"
   },
   "outputs": [],
   "source": [
    "model = Sequential([\n",
    "    layers.Rescaling(1./255.,input_shape=(224,224,3)),\n",
    "    layers.Conv2D(8,(3,3),activation='relu'),\n",
    "    layers.MaxPooling2D(2,2),\n",
    "    layers.Dropout(0.2),\n",
    "    layers.Conv2D(16,(3,3),activation='relu'),\n",
    "    layers.MaxPooling2D(2,2),\n",
    "    layers.Dropout(0.2),\n",
    "    layers.Conv2D(32,(3,3),activation='relu'),\n",
    "    layers.MaxPooling2D(2,2),\n",
    "    layers.Dropout(0.2),\n",
    "    layers.Flatten(),\n",
    "    layers.Dense(256,activation='relu'),\n",
    "    layers.Dense(64,activation='relu'),\n",
    "    layers.Dense(4,activation='softmax'),   \n",
    "])\n",
    "model.build()"
   ]
  },
  {
   "cell_type": "code",
   "execution_count": null,
   "metadata": {
    "colab": {
     "base_uri": "https://localhost:8080/"
    },
    "id": "XyQYfYs2knz8",
    "outputId": "bae95e55-0258-47d0-80a0-ccd615d82402"
   },
   "outputs": [
    {
     "name": "stdout",
     "output_type": "stream",
     "text": [
      "Model: \"sequential\"\n",
      "_________________________________________________________________\n",
      " Layer (type)                Output Shape              Param #   \n",
      "=================================================================\n",
      " rescaling (Rescaling)       (None, 224, 224, 3)       0         \n",
      "                                                                 \n",
      " conv2d (Conv2D)             (None, 222, 222, 8)       224       \n",
      "                                                                 \n",
      " max_pooling2d (MaxPooling2D  (None, 111, 111, 8)      0         \n",
      " )                                                               \n",
      "                                                                 \n",
      " dropout (Dropout)           (None, 111, 111, 8)       0         \n",
      "                                                                 \n",
      " conv2d_1 (Conv2D)           (None, 109, 109, 16)      1168      \n",
      "                                                                 \n",
      " max_pooling2d_1 (MaxPooling  (None, 54, 54, 16)       0         \n",
      " 2D)                                                             \n",
      "                                                                 \n",
      " dropout_1 (Dropout)         (None, 54, 54, 16)        0         \n",
      "                                                                 \n",
      " conv2d_2 (Conv2D)           (None, 52, 52, 32)        4640      \n",
      "                                                                 \n",
      " max_pooling2d_2 (MaxPooling  (None, 26, 26, 32)       0         \n",
      " 2D)                                                             \n",
      "                                                                 \n",
      " dropout_2 (Dropout)         (None, 26, 26, 32)        0         \n",
      "                                                                 \n",
      " flatten (Flatten)           (None, 21632)             0         \n",
      "                                                                 \n",
      " dense (Dense)               (None, 256)               5538048   \n",
      "                                                                 \n",
      " dense_1 (Dense)             (None, 64)                16448     \n",
      "                                                                 \n",
      " dense_2 (Dense)             (None, 4)                 260       \n",
      "                                                                 \n",
      "=================================================================\n",
      "Total params: 5,560,788\n",
      "Trainable params: 5,560,788\n",
      "Non-trainable params: 0\n",
      "_________________________________________________________________\n"
     ]
    }
   ],
   "source": [
    "model.summary()"
   ]
  },
  {
   "cell_type": "code",
   "execution_count": null,
   "metadata": {
    "id": "ZngTo1PmGC00"
   },
   "outputs": [],
   "source": [
    "model.compile(\n",
    "    optimizer='adam',\n",
    "    loss = tf.losses.SparseCategoricalCrossentropy(),\n",
    "    metrics=['accuracy']\n",
    ")"
   ]
  },
  {
   "cell_type": "code",
   "execution_count": null,
   "metadata": {
    "colab": {
     "base_uri": "https://localhost:8080/"
    },
    "id": "qvPZ3KxeGC50",
    "outputId": "d4ace511-ea88-4764-d669-408661cfdce0"
   },
   "outputs": [
    {
     "name": "stdout",
     "output_type": "stream",
     "text": [
      "Epoch 1/15\n",
      "46/46 [==============================] - 43s 924ms/step - loss: 1.2419 - accuracy: 0.4038 - val_loss: 1.1573 - val_accuracy: 0.5205\n",
      "Epoch 2/15\n",
      "46/46 [==============================] - 42s 913ms/step - loss: 1.0529 - accuracy: 0.5536 - val_loss: 0.9210 - val_accuracy: 0.6247\n",
      "Epoch 3/15\n",
      "46/46 [==============================] - 43s 928ms/step - loss: 0.8449 - accuracy: 0.6724 - val_loss: 0.8449 - val_accuracy: 0.6466\n",
      "Epoch 4/15\n",
      "46/46 [==============================] - 42s 921ms/step - loss: 0.6882 - accuracy: 0.7225 - val_loss: 0.8052 - val_accuracy: 0.6685\n",
      "Epoch 5/15\n",
      "46/46 [==============================] - 42s 917ms/step - loss: 0.5497 - accuracy: 0.7830 - val_loss: 0.7533 - val_accuracy: 0.7014\n",
      "Epoch 6/15\n",
      "46/46 [==============================] - 42s 913ms/step - loss: 0.4018 - accuracy: 0.8420 - val_loss: 0.8933 - val_accuracy: 0.7014\n",
      "Epoch 7/15\n",
      "46/46 [==============================] - 42s 913ms/step - loss: 0.3566 - accuracy: 0.8578 - val_loss: 0.9902 - val_accuracy: 0.6685\n",
      "Epoch 8/15\n",
      "46/46 [==============================] - 42s 918ms/step - loss: 0.2536 - accuracy: 0.9052 - val_loss: 0.9617 - val_accuracy: 0.6959\n",
      "Epoch 9/15\n",
      "46/46 [==============================] - 42s 915ms/step - loss: 0.1721 - accuracy: 0.9361 - val_loss: 1.1106 - val_accuracy: 0.6685\n",
      "Epoch 10/15\n",
      "46/46 [==============================] - 42s 920ms/step - loss: 0.1017 - accuracy: 0.9629 - val_loss: 1.2503 - val_accuracy: 0.6932\n",
      "Epoch 11/15\n",
      "46/46 [==============================] - 42s 920ms/step - loss: 0.0797 - accuracy: 0.9766 - val_loss: 1.4748 - val_accuracy: 0.6795\n",
      "Epoch 12/15\n",
      "46/46 [==============================] - 42s 915ms/step - loss: 0.1056 - accuracy: 0.9677 - val_loss: 1.4269 - val_accuracy: 0.6849\n",
      "Epoch 13/15\n",
      "46/46 [==============================] - 42s 916ms/step - loss: 0.0855 - accuracy: 0.9691 - val_loss: 1.4290 - val_accuracy: 0.6712\n",
      "Epoch 14/15\n",
      "46/46 [==============================] - 42s 913ms/step - loss: 0.0508 - accuracy: 0.9828 - val_loss: 1.5823 - val_accuracy: 0.6521\n",
      "Epoch 15/15\n",
      "46/46 [==============================] - 42s 913ms/step - loss: 0.0407 - accuracy: 0.9870 - val_loss: 1.8211 - val_accuracy: 0.6685\n"
     ]
    },
    {
     "data": {
      "text/plain": [
       "<keras.callbacks.History at 0x7fb87280cc10>"
      ]
     },
     "execution_count": 20,
     "metadata": {},
     "output_type": "execute_result"
    }
   ],
   "source": [
    "batch_size = 32\n",
    "epochs = 15\n",
    "\n",
    "model.fit(\n",
    "    images_train,\n",
    "    train_df['label'],\n",
    "    batch_size=batch_size,\n",
    "    epochs=epochs,\n",
    "    validation_data=(images_validate,validate_df['label'])\n",
    ")"
   ]
  },
  {
   "cell_type": "code",
   "execution_count": null,
   "metadata": {
    "id": "7gUgfrDfGC-l"
   },
   "outputs": [],
   "source": [
    "data_augmentation = Sequential([\n",
    "    layers.RandomRotation(factor=(-0.2,0.2),seed = 123),\n",
    "    layers.RandomZoom(0.1),\n",
    "])"
   ]
  },
  {
   "cell_type": "code",
   "execution_count": null,
   "metadata": {
    "id": "PtsNi1NAGDEk"
   },
   "outputs": [],
   "source": [
    "model2 = Sequential([\n",
    "    layers.Rescaling(1./255.,input_shape=(224,224,3)),\n",
    "    data_augmentation,\n",
    "    layers.Conv2D(8,(3,3),activation='relu'),\n",
    "    layers.MaxPooling2D(2,2),\n",
    "    layers.Dropout(0.2),\n",
    "    layers.Conv2D(16,(3,3),activation='relu'),\n",
    "    layers.MaxPooling2D(2,2),\n",
    "    layers.Dropout(0.2),\n",
    "    layers.Conv2D(32,(3,3),activation='relu'),\n",
    "    layers.MaxPooling2D(2,2),\n",
    "    layers.Dropout(0.4),\n",
    "    layers.Flatten(),\n",
    "    layers.Dense(256,activation='relu'),\n",
    "    layers.Dense(64,activation='relu'),\n",
    "    layers.Dense(4,activation='softmax'),   \n",
    "])\n",
    "model2.build()"
   ]
  },
  {
   "cell_type": "code",
   "execution_count": null,
   "metadata": {
    "colab": {
     "base_uri": "https://localhost:8080/"
    },
    "id": "1bCsoPMKoFej",
    "outputId": "2c5434d5-065f-452b-bc6d-024c896819d7"
   },
   "outputs": [
    {
     "name": "stdout",
     "output_type": "stream",
     "text": [
      "Model: \"sequential_2\"\n",
      "_________________________________________________________________\n",
      " Layer (type)                Output Shape              Param #   \n",
      "=================================================================\n",
      " rescaling_1 (Rescaling)     (None, 224, 224, 3)       0         \n",
      "                                                                 \n",
      " sequential_1 (Sequential)   (None, 224, 224, 3)       0         \n",
      "                                                                 \n",
      " conv2d_3 (Conv2D)           (None, 222, 222, 8)       224       \n",
      "                                                                 \n",
      " max_pooling2d_3 (MaxPooling  (None, 111, 111, 8)      0         \n",
      " 2D)                                                             \n",
      "                                                                 \n",
      " dropout_3 (Dropout)         (None, 111, 111, 8)       0         \n",
      "                                                                 \n",
      " conv2d_4 (Conv2D)           (None, 109, 109, 16)      1168      \n",
      "                                                                 \n",
      " max_pooling2d_4 (MaxPooling  (None, 54, 54, 16)       0         \n",
      " 2D)                                                             \n",
      "                                                                 \n",
      " dropout_4 (Dropout)         (None, 54, 54, 16)        0         \n",
      "                                                                 \n",
      " conv2d_5 (Conv2D)           (None, 52, 52, 32)        4640      \n",
      "                                                                 \n",
      " max_pooling2d_5 (MaxPooling  (None, 26, 26, 32)       0         \n",
      " 2D)                                                             \n",
      "                                                                 \n",
      " dropout_5 (Dropout)         (None, 26, 26, 32)        0         \n",
      "                                                                 \n",
      " flatten_1 (Flatten)         (None, 21632)             0         \n",
      "                                                                 \n",
      " dense_3 (Dense)             (None, 256)               5538048   \n",
      "                                                                 \n",
      " dense_4 (Dense)             (None, 64)                16448     \n",
      "                                                                 \n",
      " dense_5 (Dense)             (None, 4)                 260       \n",
      "                                                                 \n",
      "=================================================================\n",
      "Total params: 5,560,788\n",
      "Trainable params: 5,560,788\n",
      "Non-trainable params: 0\n",
      "_________________________________________________________________\n"
     ]
    }
   ],
   "source": [
    "model2.summary()"
   ]
  },
  {
   "cell_type": "code",
   "execution_count": null,
   "metadata": {
    "colab": {
     "base_uri": "https://localhost:8080/"
    },
    "id": "3V5UqUP4GDJq",
    "outputId": "0ce0026f-07ec-48a1-b248-315fc7799f7a",
    "scrolled": false
   },
   "outputs": [
    {
     "name": "stdout",
     "output_type": "stream",
     "text": [
      "Epoch 1/50\n",
      "46/46 [==============================] - 54s 1s/step - loss: 1.8575 - accuracy: 0.3118 - val_loss: 1.3209 - val_accuracy: 0.3589\n",
      "Epoch 2/50\n",
      "46/46 [==============================] - 53s 1s/step - loss: 1.2448 - accuracy: 0.3482 - val_loss: 1.2588 - val_accuracy: 0.3370\n",
      "Epoch 3/50\n",
      "46/46 [==============================] - 53s 1s/step - loss: 1.2446 - accuracy: 0.3613 - val_loss: 1.2409 - val_accuracy: 0.3562\n",
      "Epoch 4/50\n",
      "46/46 [==============================] - 53s 1s/step - loss: 1.2344 - accuracy: 0.3832 - val_loss: 1.2485 - val_accuracy: 0.3890\n",
      "Epoch 5/50\n",
      "46/46 [==============================] - 53s 1s/step - loss: 1.2389 - accuracy: 0.3558 - val_loss: 1.2578 - val_accuracy: 0.3973\n",
      "Epoch 6/50\n",
      "46/46 [==============================] - 53s 1s/step - loss: 1.2310 - accuracy: 0.3798 - val_loss: 1.2497 - val_accuracy: 0.4082\n",
      "Epoch 7/50\n",
      "46/46 [==============================] - 54s 1s/step - loss: 1.2240 - accuracy: 0.3853 - val_loss: 1.2435 - val_accuracy: 0.4274\n",
      "Epoch 8/50\n",
      "46/46 [==============================] - 53s 1s/step - loss: 1.2109 - accuracy: 0.4038 - val_loss: 1.2395 - val_accuracy: 0.4027\n",
      "Epoch 9/50\n",
      "46/46 [==============================] - 53s 1s/step - loss: 1.2071 - accuracy: 0.4361 - val_loss: 1.2046 - val_accuracy: 0.4575\n",
      "Epoch 10/50\n",
      "46/46 [==============================] - 53s 1s/step - loss: 1.1928 - accuracy: 0.4334 - val_loss: 1.2059 - val_accuracy: 0.4274\n",
      "Epoch 11/50\n",
      "46/46 [==============================] - 53s 1s/step - loss: 1.1832 - accuracy: 0.4341 - val_loss: 1.2279 - val_accuracy: 0.4603\n",
      "Epoch 12/50\n",
      "46/46 [==============================] - 53s 1s/step - loss: 1.1617 - accuracy: 0.4540 - val_loss: 1.2391 - val_accuracy: 0.3644\n",
      "Epoch 13/50\n",
      "46/46 [==============================] - 53s 1s/step - loss: 1.1559 - accuracy: 0.4554 - val_loss: 1.1879 - val_accuracy: 0.4849\n",
      "Epoch 14/50\n",
      "46/46 [==============================] - 53s 1s/step - loss: 1.1445 - accuracy: 0.4698 - val_loss: 1.2238 - val_accuracy: 0.4027\n",
      "Epoch 15/50\n",
      "46/46 [==============================] - 54s 1s/step - loss: 1.1546 - accuracy: 0.4444 - val_loss: 1.1808 - val_accuracy: 0.4247\n",
      "Epoch 16/50\n",
      "46/46 [==============================] - 53s 1s/step - loss: 1.1432 - accuracy: 0.4560 - val_loss: 1.1388 - val_accuracy: 0.4822\n",
      "Epoch 17/50\n",
      "46/46 [==============================] - 53s 1s/step - loss: 1.1327 - accuracy: 0.4842 - val_loss: 1.1484 - val_accuracy: 0.5068\n",
      "Epoch 18/50\n",
      "46/46 [==============================] - 54s 1s/step - loss: 1.1343 - accuracy: 0.4787 - val_loss: 1.1336 - val_accuracy: 0.4932\n",
      "Epoch 19/50\n",
      "46/46 [==============================] - 54s 1s/step - loss: 1.1218 - accuracy: 0.4945 - val_loss: 1.1271 - val_accuracy: 0.4932\n",
      "Epoch 20/50\n",
      "46/46 [==============================] - 54s 1s/step - loss: 1.0853 - accuracy: 0.5295 - val_loss: 1.0803 - val_accuracy: 0.5479\n",
      "Epoch 21/50\n",
      "46/46 [==============================] - 55s 1s/step - loss: 1.0756 - accuracy: 0.5199 - val_loss: 1.0935 - val_accuracy: 0.5397\n",
      "Epoch 22/50\n",
      "46/46 [==============================] - 53s 1s/step - loss: 1.0624 - accuracy: 0.5330 - val_loss: 1.1325 - val_accuracy: 0.5014\n",
      "Epoch 23/50\n",
      "46/46 [==============================] - 54s 1s/step - loss: 1.0338 - accuracy: 0.5755 - val_loss: 1.0233 - val_accuracy: 0.5918\n",
      "Epoch 24/50\n",
      "46/46 [==============================] - 53s 1s/step - loss: 0.9963 - accuracy: 0.5962 - val_loss: 1.0390 - val_accuracy: 0.5616\n",
      "Epoch 25/50\n",
      "46/46 [==============================] - 53s 1s/step - loss: 0.9250 - accuracy: 0.6415 - val_loss: 0.9065 - val_accuracy: 0.6658\n",
      "Epoch 26/50\n",
      "46/46 [==============================] - 53s 1s/step - loss: 0.9081 - accuracy: 0.6401 - val_loss: 0.9175 - val_accuracy: 0.6795\n",
      "Epoch 27/50\n",
      "46/46 [==============================] - 54s 1s/step - loss: 0.8562 - accuracy: 0.6655 - val_loss: 0.8747 - val_accuracy: 0.7041\n",
      "Epoch 28/50\n",
      "46/46 [==============================] - 53s 1s/step - loss: 0.7797 - accuracy: 0.6985 - val_loss: 0.8549 - val_accuracy: 0.6849\n",
      "Epoch 29/50\n",
      "46/46 [==============================] - 53s 1s/step - loss: 0.7284 - accuracy: 0.7177 - val_loss: 0.6765 - val_accuracy: 0.7562\n",
      "Epoch 30/50\n",
      "46/46 [==============================] - 53s 1s/step - loss: 0.6735 - accuracy: 0.7294 - val_loss: 0.7248 - val_accuracy: 0.7315\n",
      "Epoch 31/50\n",
      "46/46 [==============================] - 53s 1s/step - loss: 0.6642 - accuracy: 0.7404 - val_loss: 0.6931 - val_accuracy: 0.7370\n",
      "Epoch 32/50\n",
      "46/46 [==============================] - 53s 1s/step - loss: 0.6376 - accuracy: 0.7534 - val_loss: 0.5894 - val_accuracy: 0.7753\n",
      "Epoch 33/50\n",
      "46/46 [==============================] - 53s 1s/step - loss: 0.6319 - accuracy: 0.7610 - val_loss: 0.6607 - val_accuracy: 0.7397\n",
      "Epoch 34/50\n",
      "46/46 [==============================] - 53s 1s/step - loss: 0.5835 - accuracy: 0.7672 - val_loss: 0.5990 - val_accuracy: 0.7644\n",
      "Epoch 35/50\n",
      "46/46 [==============================] - 54s 1s/step - loss: 0.5900 - accuracy: 0.7644 - val_loss: 0.5886 - val_accuracy: 0.7781\n",
      "Epoch 36/50\n",
      "46/46 [==============================] - 54s 1s/step - loss: 0.5624 - accuracy: 0.7775 - val_loss: 0.5632 - val_accuracy: 0.7863\n",
      "Epoch 37/50\n",
      "46/46 [==============================] - 52s 1s/step - loss: 0.5561 - accuracy: 0.7761 - val_loss: 0.5402 - val_accuracy: 0.7863\n",
      "Epoch 38/50\n",
      "46/46 [==============================] - 53s 1s/step - loss: 0.5423 - accuracy: 0.7837 - val_loss: 0.5408 - val_accuracy: 0.7973\n",
      "Epoch 39/50\n",
      "46/46 [==============================] - 53s 1s/step - loss: 0.5406 - accuracy: 0.7850 - val_loss: 0.5944 - val_accuracy: 0.7616\n",
      "Epoch 40/50\n",
      "46/46 [==============================] - 53s 1s/step - loss: 0.5004 - accuracy: 0.7926 - val_loss: 0.5258 - val_accuracy: 0.8055\n",
      "Epoch 41/50\n",
      "46/46 [==============================] - 52s 1s/step - loss: 0.5180 - accuracy: 0.7912 - val_loss: 0.6177 - val_accuracy: 0.7726\n",
      "Epoch 42/50\n",
      "46/46 [==============================] - 52s 1s/step - loss: 0.5325 - accuracy: 0.7816 - val_loss: 0.5334 - val_accuracy: 0.7890\n",
      "Epoch 43/50\n",
      "46/46 [==============================] - 52s 1s/step - loss: 0.4997 - accuracy: 0.8036 - val_loss: 0.5315 - val_accuracy: 0.7890\n",
      "Epoch 44/50\n",
      "46/46 [==============================] - 53s 1s/step - loss: 0.4718 - accuracy: 0.8070 - val_loss: 0.5282 - val_accuracy: 0.8055\n",
      "Epoch 45/50\n",
      "46/46 [==============================] - 52s 1s/step - loss: 0.4933 - accuracy: 0.8036 - val_loss: 0.6036 - val_accuracy: 0.7589\n",
      "Epoch 46/50\n",
      "46/46 [==============================] - 52s 1s/step - loss: 0.4633 - accuracy: 0.8187 - val_loss: 0.5060 - val_accuracy: 0.8027\n",
      "Epoch 47/50\n",
      "46/46 [==============================] - 52s 1s/step - loss: 0.4632 - accuracy: 0.8091 - val_loss: 0.5076 - val_accuracy: 0.8164\n",
      "Epoch 48/50\n",
      "46/46 [==============================] - 52s 1s/step - loss: 0.4582 - accuracy: 0.8221 - val_loss: 0.5210 - val_accuracy: 0.8082\n",
      "Epoch 49/50\n",
      "46/46 [==============================] - 53s 1s/step - loss: 0.4388 - accuracy: 0.8187 - val_loss: 0.4920 - val_accuracy: 0.8027\n",
      "Epoch 50/50\n",
      "46/46 [==============================] - 52s 1s/step - loss: 0.4495 - accuracy: 0.8166 - val_loss: 0.4948 - val_accuracy: 0.8274\n"
     ]
    }
   ],
   "source": [
    "model2.compile(\n",
    "    optimizer='adam',\n",
    "    loss = tf.losses.SparseCategoricalCrossentropy(),\n",
    "    metrics=['accuracy']\n",
    ")\n",
    "\n",
    "batch_size = 32\n",
    "epochs = 50\n",
    "\n",
    "history = model2.fit(\n",
    "    images_train,\n",
    "    train_df['label'],\n",
    "    batch_size=batch_size,\n",
    "    epochs=epochs,\n",
    "    validation_data=(images_validate,validate_df['label'])\n",
    ")"
   ]
  },
  {
   "cell_type": "code",
   "execution_count": null,
   "metadata": {
    "colab": {
     "base_uri": "https://localhost:8080/",
     "height": 265
    },
    "id": "PnikU86gGDOO",
    "outputId": "4640b3e0-c619-4d5d-9ee8-b8dc7b8e210f"
   },
   "outputs": [
    {
     "data": {
      "image/png": "[encoded data removed]",
      "text/plain": [
       "<Figure size 432x288 with 1 Axes>"
      ]
     },
     "metadata": {
      "needs_background": "light"
     },
     "output_type": "display_data"
    }
   ],
   "source": [
    "train_acc = history.history['accuracy']\n",
    "validate_acc = history.history['val_accuracy']\n",
    "epoch_ = range(1,epochs+1)\n",
    "\n",
    "plt.plot(epoch_,train_acc,'r',label='Training')\n",
    "plt.plot(epoch_,validate_acc,'b',label='Validation')\n",
    "plt.legend()\n",
    "plt.show()"
   ]
  },
  {
   "cell_type": "code",
   "execution_count": null,
   "metadata": {
    "colab": {
     "base_uri": "https://localhost:8080/"
    },
    "id": "KBqF48VmAFfn",
    "outputId": "a4164571-43e2-4e20-e123-3a6bd8fc31e5"
   },
   "outputs": [
    {
     "name": "stdout",
     "output_type": "stream",
     "text": [
      "[0.3118131756782532, 0.3482142984867096, 0.3612637221813202, 0.38324177265167236, 0.35576921701431274, 0.3798076808452606, 0.38530218601226807, 0.4038461446762085, 0.43612638115882874, 0.4333791136741638, 0.43406593799591064, 0.45398351550102234, 0.4553571343421936, 0.46978020668029785, 0.4443681240081787, 0.45604395866394043, 0.4842033088207245, 0.47870880365371704, 0.49450549483299255, 0.5295329689979553, 0.5199176073074341, 0.5329670310020447, 0.5755494236946106, 0.5961538553237915, 0.6414835453033447, 0.6401098966598511, 0.6655219793319702, 0.6984890103340149, 0.7177197933197021, 0.7293956279754639, 0.7403846383094788, 0.7534340620040894, 0.7609890103340149, 0.7671703100204468, 0.7644230723381042, 0.7774725556373596, 0.776098906993866, 0.7836538553237915, 0.7850274443626404, 0.7925823926925659, 0.791208803653717, 0.781593382358551, 0.8035714030265808, 0.8070054650306702, 0.8035714030265808, 0.8186812996864319, 0.8090659379959106, 0.8221153616905212, 0.8186812996864319, 0.8166208863258362]\n"
     ]
    }
   ],
   "source": [
    "print(train_acc)"
   ]
  },
  {
   "cell_type": "code",
   "execution_count": null,
   "metadata": {
    "colab": {
     "base_uri": "https://localhost:8080/"
    },
    "id": "SB8cGtt_A3dF",
    "outputId": "d7f3e555-86c0-42ba-edf4-e6f4306fe591"
   },
   "outputs": [
    {
     "name": "stdout",
     "output_type": "stream",
     "text": [
      "[0.3589041233062744, 0.3369863033294678, 0.3561643958091736, 0.38904109597206116, 0.39726027846336365, 0.40821918845176697, 0.4273972511291504, 0.4027397334575653, 0.4575342535972595, 0.4273972511291504, 0.46027398109436035, 0.3643835484981537, 0.48493149876594543, 0.4027397334575653, 0.42465752363204956, 0.4821917712688446, 0.5068492889404297, 0.4931506812572479, 0.4931506812572479, 0.5479452013969421, 0.5397260189056396, 0.501369833946228, 0.5917808413505554, 0.5616438388824463, 0.6657534241676331, 0.6794520616531372, 0.7041096091270447, 0.6849315166473389, 0.7561643719673157, 0.7315068244934082, 0.7369862794876099, 0.7753424644470215, 0.7397260069847107, 0.7643835544586182, 0.7780821919441223, 0.7863013744354248, 0.7863013744354248, 0.7972602844238281, 0.7616438269615173, 0.8054794669151306, 0.7726027369499207, 0.7890411019325256, 0.7890411019325256, 0.8054794669151306, 0.7589040994644165, 0.8027397394180298, 0.8164383769035339, 0.8082191944122314, 0.8027397394180298, 0.8273972868919373]\n"
     ]
    }
   ],
   "source": [
    "print(validate_acc)"
   ]
  },
  {
   "cell_type": "code",
   "execution_count": null,
   "metadata": {
    "id": "gDBSPvqfBQm0"
   },
   "outputs": [],
   "source": [
    "loss = history.history['loss']\n",
    "val_loss = history.history['val_loss']"
   ]
  },
  {
   "cell_type": "code",
   "execution_count": null,
   "metadata": {
    "colab": {
     "base_uri": "https://localhost:8080/"
    },
    "id": "qiRD9HCZBQwd",
    "outputId": "222acc8a-7d61-49f7-b7f9-2d339646b3cd"
   },
   "outputs": [
    {
     "name": "stdout",
     "output_type": "stream",
     "text": [
      "[1.8574717044830322, 1.2448415756225586, 1.2446035146713257, 1.2343653440475464, 1.2388535737991333, 1.2310453653335571, 1.2239714860916138, 1.210936427116394, 1.2071162462234497, 1.1927932500839233, 1.1832263469696045, 1.1616848707199097, 1.1559205055236816, 1.144511103630066, 1.1546196937561035, 1.143212080001831, 1.1326850652694702, 1.1342512369155884, 1.1218242645263672, 1.085302472114563, 1.0756319761276245, 1.0623831748962402, 1.0337858200073242, 0.9963147640228271, 0.9249570369720459, 0.9080867767333984, 0.8561762571334839, 0.7796709537506104, 0.7284309267997742, 0.6734760403633118, 0.6641524434089661, 0.6375585794448853, 0.6318613290786743, 0.583491325378418, 0.590032160282135, 0.5623919367790222, 0.5560523271560669, 0.5423108339309692, 0.5405623316764832, 0.5003747940063477, 0.5179781913757324, 0.5325401425361633, 0.4996527433395386, 0.4717734158039093, 0.4933066666126251, 0.4632832109928131, 0.4631858170032501, 0.4581716060638428, 0.4387669265270233, 0.44951504468917847]\n"
     ]
    }
   ],
   "source": [
    "print(loss)"
   ]
  },
  {
   "cell_type": "code",
   "execution_count": null,
   "metadata": {
    "colab": {
     "base_uri": "https://localhost:8080/"
    },
    "id": "Qve77RJSBhwF",
    "outputId": "d93f4308-5317-4992-a02f-467a2329ad95"
   },
   "outputs": [
    {
     "name": "stdout",
     "output_type": "stream",
     "text": [
      "[1.3209134340286255, 1.2587772607803345, 1.2408926486968994, 1.2485069036483765, 1.2577868700027466, 1.2496581077575684, 1.2435463666915894, 1.2394570112228394, 1.2046360969543457, 1.2058786153793335, 1.2279082536697388, 1.2390708923339844, 1.1879206895828247, 1.223753571510315, 1.1808204650878906, 1.1388038396835327, 1.1484040021896362, 1.1335961818695068, 1.127051830291748, 1.0802685022354126, 1.0934970378875732, 1.132536768913269, 1.023269772529602, 1.0389702320098877, 0.9064863920211792, 0.9175138473510742, 0.8746862411499023, 0.8548758029937744, 0.676459014415741, 0.7247963547706604, 0.693078339099884, 0.589370608329773, 0.6606854200363159, 0.5989998579025269, 0.5885773301124573, 0.5632332563400269, 0.540245771408081, 0.5407763123512268, 0.5943940281867981, 0.5258360505104065, 0.6177178621292114, 0.5334254503250122, 0.5315186977386475, 0.5282402634620667, 0.6036170125007629, 0.5060363411903381, 0.5076248645782471, 0.5210017561912537, 0.49204641580581665, 0.49479159712791443]\n"
     ]
    }
   ],
   "source": [
    "print(val_loss)"
   ]
  },
  {
   "cell_type": "code",
   "execution_count": null,
   "metadata": {
    "id": "b6-V4CAH9156"
   },
   "outputs": [],
   "source": [
    "!pip install -q segmentation_models"
   ]
  },
  {
   "cell_type": "code",
   "execution_count": null,
   "metadata": {
    "colab": {
     "base_uri": "https://localhost:8080/"
    },
    "id": "7mi3tjJSEpQc",
    "outputId": "78a10bf8-c4fd-461d-da75-4fd2464cd7fa"
   },
   "outputs": [
    {
     "name": "stdout",
     "output_type": "stream",
     "text": [
      "Model: \"sequential\"\n",
      "_________________________________________________________________\n",
      " Layer (type)                Output Shape              Param #   \n",
      "=================================================================\n",
      " densenet201 (Functional)    (None, 7, 7, 1920)        18321984  \n",
      "                                                                 \n",
      " global_average_pooling2d (G  (None, 1920)             0         \n",
      " lobalAveragePooling2D)                                          \n",
      "                                                                 \n",
      " dense (Dense)               (None, 4)                 7684      \n",
      "                                                                 \n",
      "=================================================================\n",
      "Total params: 18,329,668\n",
      "Trainable params: 18,100,612\n",
      "Non-trainable params: 229,056\n",
      "_________________________________________________________________\n"
     ]
    }
   ],
   "source": [
    "model3 = tf.keras.Sequential([\n",
    "        tf.keras.applications.DenseNet201(\n",
    "            input_shape=(224, 224, 3),\n",
    "            weights='imagenet',\n",
    "            include_top=False\n",
    "        ),\n",
    "        GlobalAveragePooling2D(),\n",
    "        Dense(4, activation='softmax')\n",
    "    ])\n",
    "                     \n",
    "model3.compile(\n",
    "    optimizer='adam',\n",
    "    loss = tf.keras.losses.SparseCategoricalCrossentropy(),\n",
    "    metrics=['accuracy']\n",
    "    )\n",
    "model3.summary()"
   ]
  },
  {
   "cell_type": "code",
   "execution_count": null,
   "metadata": {
    "id": "pPgmUcMyEpTk"
   },
   "outputs": [],
   "source": [
    "from keras.callbacks import ModelCheckpoint\n",
    "ch_p_den = ModelCheckpoint(filepath=\"model_den.h5\", monitor='val_loss', save_weights_only=True, verbose=1)"
   ]
  },
  {
   "cell_type": "code",
   "execution_count": null,
   "metadata": {
    "colab": {
     "base_uri": "https://localhost:8080/"
    },
    "id": "X2X9XlrfML0L",
    "outputId": "b0ec4bcb-3d1f-4a09-8016-b452d956e10c"
   },
   "outputs": [
    {
     "name": "stdout",
     "output_type": "stream",
     "text": [
      "\n",
      "Epoch 1: LearningRateScheduler setting learning rate to 1e-05.\n",
      "Epoch 1/10\n",
      "32/32 [==============================] - ETA: 0s - loss: 1.4319 - accuracy: 0.2411 \n",
      "Epoch 1: saving model to model_den.h5\n",
      "32/32 [==============================] - 1794s 55s/step - loss: 1.4319 - accuracy: 0.2411 - val_loss: 1.4877 - val_accuracy: 0.1562 - lr: 1.0000e-05\n",
      "\n",
      "Epoch 2: LearningRateScheduler setting learning rate to 1.325e-05.\n",
      "Epoch 2/10\n",
      "32/32 [==============================] - ETA: 0s - loss: 0.6750 - accuracy: 0.7837 \n",
      "Epoch 2: saving model to model_den.h5\n",
      "32/32 [==============================] - 1753s 55s/step - loss: 0.6750 - accuracy: 0.7837 - val_loss: 0.9308 - val_accuracy: 0.6137 - lr: 1.3250e-05\n",
      "\n",
      "Epoch 3: LearningRateScheduler setting learning rate to 1.65e-05.\n",
      "Epoch 3/10\n",
      "32/32 [==============================] - ETA: 0s - loss: 0.3114 - accuracy: 0.9409 \n",
      "Epoch 3: saving model to model_den.h5\n",
      "32/32 [==============================] - 1781s 56s/step - loss: 0.3114 - accuracy: 0.9409 - val_loss: 0.6291 - val_accuracy: 0.8000 - lr: 1.6500e-05\n",
      "\n",
      "Epoch 4: LearningRateScheduler setting learning rate to 1.975e-05.\n",
      "Epoch 4/10\n",
      "32/32 [==============================] - ETA: 0s - loss: 0.1568 - accuracy: 0.9780 \n",
      "Epoch 4: saving model to model_den.h5\n",
      "32/32 [==============================] - 1873s 59s/step - loss: 0.1568 - accuracy: 0.9780 - val_loss: 0.4827 - val_accuracy: 0.8630 - lr: 1.9750e-05\n",
      "\n",
      "Epoch 5: LearningRateScheduler setting learning rate to 2.3e-05.\n",
      "Epoch 5/10\n",
      "32/32 [==============================] - ETA: 0s - loss: 0.0956 - accuracy: 0.9911 \n",
      "Epoch 5: saving model to model_den.h5\n",
      "32/32 [==============================] - 1985s 62s/step - loss: 0.0956 - accuracy: 0.9911 - val_loss: 0.3859 - val_accuracy: 0.8877 - lr: 2.3000e-05\n",
      "\n",
      "Epoch 6: LearningRateScheduler setting learning rate to 2.625e-05.\n",
      "Epoch 6/10\n",
      "32/32 [==============================] - ETA: 0s - loss: 0.0568 - accuracy: 0.9973 \n",
      "Epoch 6: saving model to model_den.h5\n",
      "32/32 [==============================] - 1898s 59s/step - loss: 0.0568 - accuracy: 0.9973 - val_loss: 0.3283 - val_accuracy: 0.9178 - lr: 2.6250e-05\n",
      "\n",
      "Epoch 7: LearningRateScheduler setting learning rate to 2.95e-05.\n",
      "Epoch 7/10\n",
      "32/32 [==============================] - ETA: 0s - loss: 0.0387 - accuracy: 0.9979 \n",
      "Epoch 7: saving model to model_den.h5\n",
      "32/32 [==============================] - 1881s 59s/step - loss: 0.0387 - accuracy: 0.9979 - val_loss: 0.2978 - val_accuracy: 0.9205 - lr: 2.9500e-05\n",
      "\n",
      "Epoch 8: LearningRateScheduler setting learning rate to 3.2749999999999996e-05.\n",
      "Epoch 8/10\n",
      "32/32 [==============================] - ETA: 0s - loss: 0.0249 - accuracy: 0.9993 \n",
      "Epoch 8: saving model to model_den.h5\n",
      "32/32 [==============================] - 1791s 56s/step - loss: 0.0249 - accuracy: 0.9993 - val_loss: 0.2794 - val_accuracy: 0.9233 - lr: 3.2750e-05\n",
      "\n",
      "Epoch 9: LearningRateScheduler setting learning rate to 3.6e-05.\n",
      "Epoch 9/10\n",
      "32/32 [==============================] - ETA: 0s - loss: 0.0191 - accuracy: 0.9993 \n",
      "Epoch 9: saving model to model_den.h5\n",
      "32/32 [==============================] - 1779s 56s/step - loss: 0.0191 - accuracy: 0.9993 - val_loss: 0.2709 - val_accuracy: 0.9205 - lr: 3.6000e-05\n",
      "\n",
      "Epoch 10: LearningRateScheduler setting learning rate to 3.925e-05.\n",
      "Epoch 10/10\n",
      "32/32 [==============================] - ETA: 0s - loss: 0.0163 - accuracy: 0.9993 \n",
      "Epoch 10: saving model to model_den.h5\n",
      "32/32 [==============================] - 1802s 56s/step - loss: 0.0163 - accuracy: 0.9993 - val_loss: 0.2588 - val_accuracy: 0.9205 - lr: 3.9250e-05\n"
     ]
    }
   ],
   "source": [
    "AUTO = tf.data.experimental.AUTOTUNE\n",
    "try:\n",
    "    tpu = tf.distribute.cluster_resolver.TPUClusterResolver()\n",
    "    print('Running on TPU ', tpu.master())\n",
    "except ValueError:\n",
    "    tpu = None\n",
    "\n",
    "if tpu:\n",
    "    tf.config.experimental_connect_to_cluster(tpu)\n",
    "    tf.tpu.experimental.initialize_tpu_system(tpu)\n",
    "    strategy = tf.distribute.experimental.TPUStrategy(tpu)\n",
    "else:\n",
    "    strategy = tf.distribute.get_strategy()\n",
    "\n",
    "def build_lrfn(lr_start=0.00001, lr_max=0.000075, \n",
    "               lr_min=0.000001, lr_rampup_epochs=20, \n",
    "               lr_sustain_epochs=0, lr_exp_decay=.8):\n",
    "    lr_max = lr_max * strategy.num_replicas_in_sync\n",
    "\n",
    "    def lrfn(epoch):\n",
    "        if epoch < lr_rampup_epochs:\n",
    "            lr = (lr_max - lr_start) / lr_rampup_epochs * epoch + lr_start\n",
    "        elif epoch < lr_rampup_epochs + lr_sustain_epochs:\n",
    "            lr = lr_max\n",
    "        else:\n",
    "            lr = (lr_max - lr_min) * lr_exp_decay**(epoch - lr_rampup_epochs - lr_sustain_epochs) + lr_min\n",
    "        return lr\n",
    "    \n",
    "    return lrfn\n",
    "\n",
    "lrfn = build_lrfn()\n",
    "lr_schedule = tf.keras.callbacks.LearningRateScheduler(lrfn, verbose=1)\n",
    "\n",
    "history1 = model3.fit(\n",
    "    images_train,\n",
    "    train_df['label'], \n",
    "    epochs=10, \n",
    "    callbacks=[lr_schedule, ch_p_den],\n",
    "    steps_per_epoch=32,\n",
    "    validation_data=(images_validate,validate_df['label']))"
   ]
  },
  {
   "cell_type": "code",
   "execution_count": null,
   "metadata": {
    "colab": {
     "base_uri": "https://localhost:8080/",
     "height": 265
    },
    "id": "qfKeA7HCdvPo",
    "outputId": "4eff9af6-80ab-49fd-b55b-824599137de3"
   },
   "outputs": [
    {
     "data": {
      "image/png": "[encoded data removed]",
      "text/plain": [
       "<Figure size 432x288 with 1 Axes>"
      ]
     },
     "metadata": {
      "needs_background": "light"
     },
     "output_type": "display_data"
    }
   ],
   "source": [
    "train_acc3 = history1.history['accuracy']\n",
    "validate_acc3 = history1.history['val_accuracy']\n",
    "loss_acc4 = history1.history['loss']\n",
    "validate_loss4 = history1.history['val_loss']\n",
    "\n",
    "epoch_3 = range(1,11)\n",
    "\n",
    "plt.plot(epoch_3,train_acc3,'r',label='Accuracy')\n",
    "plt.plot(epoch_3,validate_acc3,'b',label='Validation Accuracy')\n",
    "plt.plot(epoch_3,loss_acc4,'g',label='Loss')\n",
    "plt.plot(epoch_3,validate_loss4,'y',label='Validation Loss')\n",
    "plt.legend()\n",
    "plt.show()"
   ]
  },
  {
   "cell_type": "code",
   "execution_count": null,
   "metadata": {
    "colab": {
     "base_uri": "https://localhost:8080/"
    },
    "id": "xW5Sos1Ag0o4",
    "outputId": "4b0ed176-0913-42a7-ca4d-27ed8a5f7be5"
   },
   "outputs": [
    {
     "name": "stdout",
     "output_type": "stream",
     "text": [
      "[0.2410714328289032, 0.7836538553237915, 0.9409340620040894, 0.9780219793319702, 0.9910714030265808, 0.9972527623176575, 0.9979395866394043, 0.9993131756782532, 0.9993131756782532, 0.9993131756782532]\n"
     ]
    }
   ],
   "source": [
    "print(train_acc3)"
   ]
  },
  {
   "cell_type": "code",
   "execution_count": null,
   "metadata": {
    "colab": {
     "base_uri": "https://localhost:8080/"
    },
    "id": "ZwO9T0o9hGIt",
    "outputId": "81911d8d-6167-43b5-c29a-34faa4e3b5e6"
   },
   "outputs": [
    {
     "name": "stdout",
     "output_type": "stream",
     "text": [
      "[0.15616437792778015, 0.6136986017227173, 0.800000011920929, 0.8630136847496033, 0.8876712322235107, 0.9178082346916199, 0.9205479621887207, 0.9232876896858215, 0.9205479621887207, 0.9205479621887207]\n"
     ]
    }
   ],
   "source": [
    "print(validate_acc3)"
   ]
  },
  {
   "cell_type": "code",
   "execution_count": null,
   "metadata": {
    "colab": {
     "base_uri": "https://localhost:8080/"
    },
    "id": "rKZWqSrNhGLN",
    "outputId": "aa72e297-7f1d-4f60-b431-19a96aad8318"
   },
   "outputs": [
    {
     "name": "stdout",
     "output_type": "stream",
     "text": [
      "[1.4319267272949219, 0.6749789714813232, 0.31144973635673523, 0.15675708651542664, 0.09557889401912689, 0.05682597681879997, 0.03871229290962219, 0.024852538481354713, 0.01909658871591091, 0.016299333423376083]\n"
     ]
    }
   ],
   "source": [
    "print(loss_acc4)"
   ]
  },
  {
   "cell_type": "code",
   "execution_count": null,
   "metadata": {
    "colab": {
     "base_uri": "https://localhost:8080/"
    },
    "id": "UBOWJ4fQhGQL",
    "outputId": "2235b417-2c82-4f01-daa4-583c43eb0301"
   },
   "outputs": [
    {
     "name": "stdout",
     "output_type": "stream",
     "text": [
      "[1.4877175092697144, 0.930834949016571, 0.6290685534477234, 0.48272764682769775, 0.38589614629745483, 0.3283407986164093, 0.2978462278842926, 0.2794293761253357, 0.2709282636642456, 0.2588144838809967]\n"
     ]
    }
   ],
   "source": [
    "print(validate_loss4)"
   ]
  },
  {
   "cell_type": "code",
   "execution_count": null,
   "metadata": {
    "colab": {
     "base_uri": "https://localhost:8080/",
     "height": 422
    },
    "id": "o_A2higieRe3",
    "outputId": "383b086f-d765-4e9e-ae38-ddeb0280798b"
   },
   "outputs": [
    {
     "data": {
      "image/png": "[encoded data removed]",
      "text/plain": [
       "<IPython.core.display.Image object>"
      ]
     },
     "execution_count": 25,
     "metadata": {},
     "output_type": "execute_result"
    }
   ],
   "source": [
    "plot_model(model3, to_file='model_plot3.png', show_shapes=True, show_layer_names=True)"
   ]
  },
  {
   "cell_type": "code",
   "execution_count": null,
   "metadata": {
    "colab": {
     "base_uri": "https://localhost:8080/"
    },
    "id": "wHxVSC0Uc-Rx",
    "outputId": "5b6fab8e-3d0b-4874-8cd6-ea6a75f6ef58"
   },
   "outputs": [
    {
     "name": "stdout",
     "output_type": "stream",
     "text": [
      "Model: \"sequential_1\"\n",
      "_________________________________________________________________\n",
      " Layer (type)                Output Shape              Param #   \n",
      "=================================================================\n",
      " efficientnet-b1 (Functional  (None, 7, 7, 1280)       6575232   \n",
      " )                                                               \n",
      "                                                                 \n",
      " global_average_pooling2d_1   (None, 1280)             0         \n",
      " (GlobalAveragePooling2D)                                        \n",
      "                                                                 \n",
      " dense_1 (Dense)             (None, 4)                 5124      \n",
      "                                                                 \n",
      "=================================================================\n",
      "Total params: 6,580,356\n",
      "Trainable params: 6,518,308\n",
      "Non-trainable params: 62,048\n",
      "_________________________________________________________________\n"
     ]
    }
   ],
   "source": [
    "!pip install -q efficientnet\n",
    "import efficientnet.tfkeras as efn\n",
    "model4 = tf.keras.Sequential([\n",
    "        efn.EfficientNetB1(\n",
    "            input_shape=(224, 224, 3),\n",
    "            weights='imagenet',\n",
    "            include_top=False\n",
    "        ),\n",
    "        GlobalAveragePooling2D(),\n",
    "        Dense(4, activation='softmax')\n",
    "    ])\n",
    "        \n",
    "model4.compile(\n",
    "        optimizer='adam',\n",
    "        loss = tf.keras.losses.SparseCategoricalCrossentropy(),\n",
    "        metrics=['accuracy']\n",
    "    )\n",
    "model4.summary()"
   ]
  },
  {
   "cell_type": "code",
   "execution_count": null,
   "metadata": {
    "colab": {
     "base_uri": "https://localhost:8080/"
    },
    "id": "he3v5snOfB2n",
    "outputId": "db446bda-0f71-41c2-94e3-53eeff73c463"
   },
   "outputs": [
    {
     "name": "stdout",
     "output_type": "stream",
     "text": [
      "\n",
      "Epoch 1: LearningRateScheduler setting learning rate to 1e-05.\n",
      "Epoch 1/10\n",
      "32/32 [==============================] - ETA: 0s - loss: 1.4193 - accuracy: 0.2878 \n",
      "Epoch 1: saving model to model4_den.h5\n",
      "32/32 [==============================] - 551s 17s/step - loss: 1.4193 - accuracy: 0.2878 - val_loss: 1.6477 - val_accuracy: 0.3068 - lr: 1.0000e-05\n",
      "\n",
      "Epoch 2: LearningRateScheduler setting learning rate to 1.325e-05.\n",
      "Epoch 2/10\n",
      "32/32 [==============================] - ETA: 0s - loss: 1.3069 - accuracy: 0.4080 \n",
      "Epoch 2: saving model to model4_den.h5\n",
      "32/32 [==============================] - 519s 16s/step - loss: 1.3069 - accuracy: 0.4080 - val_loss: 1.3389 - val_accuracy: 0.3370 - lr: 1.3250e-05\n",
      "\n",
      "Epoch 3: LearningRateScheduler setting learning rate to 1.65e-05.\n",
      "Epoch 3/10\n",
      "32/32 [==============================] - ETA: 0s - loss: 1.1665 - accuracy: 0.5467 \n",
      "Epoch 3: saving model to model4_den.h5\n",
      "32/32 [==============================] - 516s 16s/step - loss: 1.1665 - accuracy: 0.5467 - val_loss: 1.2326 - val_accuracy: 0.4712 - lr: 1.6500e-05\n",
      "\n",
      "Epoch 4: LearningRateScheduler setting learning rate to 1.975e-05.\n",
      "Epoch 4/10\n",
      "32/32 [==============================] - ETA: 0s - loss: 1.0151 - accuracy: 0.7026 \n",
      "Epoch 4: saving model to model4_den.h5\n",
      "32/32 [==============================] - 517s 16s/step - loss: 1.0151 - accuracy: 0.7026 - val_loss: 0.9691 - val_accuracy: 0.6877 - lr: 1.9750e-05\n",
      "\n",
      "Epoch 5: LearningRateScheduler setting learning rate to 2.3e-05.\n",
      "Epoch 5/10\n",
      "32/32 [==============================] - ETA: 0s - loss: 0.8313 - accuracy: 0.7981 \n",
      "Epoch 5: saving model to model4_den.h5\n",
      "32/32 [==============================] - 521s 16s/step - loss: 0.8313 - accuracy: 0.7981 - val_loss: 0.7057 - val_accuracy: 0.8110 - lr: 2.3000e-05\n",
      "\n",
      "Epoch 6: LearningRateScheduler setting learning rate to 2.625e-05.\n",
      "Epoch 6/10\n",
      "32/32 [==============================] - ETA: 0s - loss: 0.6556 - accuracy: 0.8393 \n",
      "Epoch 6: saving model to model4_den.h5\n",
      "32/32 [==============================] - 518s 16s/step - loss: 0.6556 - accuracy: 0.8393 - val_loss: 0.5115 - val_accuracy: 0.8603 - lr: 2.6250e-05\n",
      "\n",
      "Epoch 7: LearningRateScheduler setting learning rate to 2.95e-05.\n",
      "Epoch 7/10\n",
      "32/32 [==============================] - ETA: 0s - loss: 0.4909 - accuracy: 0.8757 \n",
      "Epoch 7: saving model to model4_den.h5\n",
      "32/32 [==============================] - 519s 16s/step - loss: 0.4909 - accuracy: 0.8757 - val_loss: 0.3900 - val_accuracy: 0.8904 - lr: 2.9500e-05\n",
      "\n",
      "Epoch 8: LearningRateScheduler setting learning rate to 3.2749999999999996e-05.\n",
      "Epoch 8/10\n",
      "32/32 [==============================] - ETA: 0s - loss: 0.3925 - accuracy: 0.8942 \n",
      "Epoch 8: saving model to model4_den.h5\n",
      "32/32 [==============================] - 531s 17s/step - loss: 0.3925 - accuracy: 0.8942 - val_loss: 0.3199 - val_accuracy: 0.9041 - lr: 3.2750e-05\n",
      "\n",
      "Epoch 9: LearningRateScheduler setting learning rate to 3.6e-05.\n",
      "Epoch 9/10\n",
      "32/32 [==============================] - ETA: 0s - loss: 0.3192 - accuracy: 0.9107 \n",
      "Epoch 9: saving model to model4_den.h5\n",
      "32/32 [==============================] - 531s 17s/step - loss: 0.3192 - accuracy: 0.9107 - val_loss: 0.2749 - val_accuracy: 0.9178 - lr: 3.6000e-05\n",
      "\n",
      "Epoch 10: LearningRateScheduler setting learning rate to 3.925e-05.\n",
      "Epoch 10/10\n",
      "32/32 [==============================] - ETA: 0s - loss: 0.2547 - accuracy: 0.9258 \n",
      "Epoch 10: saving model to model4_den.h5\n",
      "32/32 [==============================] - 524s 16s/step - loss: 0.2547 - accuracy: 0.9258 - val_loss: 0.2385 - val_accuracy: 0.9260 - lr: 3.9250e-05\n"
     ]
    }
   ],
   "source": [
    "from keras.callbacks import ModelCheckpoint\n",
    "ch_p_den = ModelCheckpoint(filepath=\"model4_den.h5\", monitor='val_loss', save_weights_only=True, verbose=1)\n",
    "\n",
    "AUTO = tf.data.experimental.AUTOTUNE\n",
    "try:\n",
    "    tpu = tf.distribute.cluster_resolver.TPUClusterResolver()\n",
    "    print('Running on TPU ', tpu.master())\n",
    "except ValueError:\n",
    "    tpu = None\n",
    "\n",
    "if tpu:\n",
    "    tf.config.experimental_connect_to_cluster(tpu)\n",
    "    tf.tpu.experimental.initialize_tpu_system(tpu)\n",
    "    strategy = tf.distribute.experimental.TPUStrategy(tpu)\n",
    "else:\n",
    "    strategy = tf.distribute.get_strategy()\n",
    "\n",
    "\n",
    "def build_lrfn(lr_start=0.00001, lr_max=0.000075, \n",
    "               lr_min=0.000001, lr_rampup_epochs=20, \n",
    "               lr_sustain_epochs=0, lr_exp_decay=.8):\n",
    "    lr_max = lr_max * strategy.num_replicas_in_sync\n",
    "\n",
    "    def lrfn(epoch):\n",
    "        if epoch < lr_rampup_epochs:\n",
    "            lr = (lr_max - lr_start) / lr_rampup_epochs * epoch + lr_start\n",
    "        elif epoch < lr_rampup_epochs + lr_sustain_epochs:\n",
    "            lr = lr_max\n",
    "        else:\n",
    "            lr = (lr_max - lr_min) * lr_exp_decay**(epoch - lr_rampup_epochs - lr_sustain_epochs) + lr_min\n",
    "        return lr\n",
    "    \n",
    "    return lrfn\n",
    "\n",
    "\n",
    "lrfn = build_lrfn()\n",
    "lr_schedule = tf.keras.callbacks.LearningRateScheduler(lrfn, verbose=1)\n",
    "\n",
    "history2 = model4.fit(\n",
    "    images_train,\n",
    "    train_df['label'], \n",
    "    epochs=10, \n",
    "    callbacks=[lr_schedule, ch_p_den],\n",
    "    steps_per_epoch=32,\n",
    "    validation_data=(images_validate,validate_df['label']))"
   ]
  },
  {
   "cell_type": "code",
   "execution_count": null,
   "metadata": {
    "colab": {
     "base_uri": "https://localhost:8080/",
     "height": 422
    },
    "id": "Q0ztXCrtKO3d",
    "outputId": "1f295b2b-63fd-465d-9f39-3454690e9d75"
   },
   "outputs": [
    {
     "data": {
      "image/png": "[encoded data removed]",
      "text/plain": [
       "<IPython.core.display.Image object>"
      ]
     },
     "execution_count": 19,
     "metadata": {},
     "output_type": "execute_result"
    }
   ],
   "source": [
    "plot_model(model4, to_file='model_plot3.png', show_shapes=True, show_layer_names=True)"
   ]
  },
  {
   "cell_type": "code",
   "execution_count": null,
   "metadata": {
    "colab": {
     "base_uri": "https://localhost:8080/",
     "height": 265
    },
    "id": "MuscnKj5KbLT",
    "outputId": "3c5aed8a-b2bc-4597-d50b-897f8e52a495"
   },
   "outputs": [
    {
     "data": {
      "image/png": "[encoded data removed]",
      "text/plain": [
       "<Figure size 432x288 with 1 Axes>"
      ]
     },
     "metadata": {
      "needs_background": "light"
     },
     "output_type": "display_data"
    }
   ],
   "source": [
    "train_acc5 = history2.history['accuracy']\n",
    "validate_acc5 = history2.history['val_accuracy']\n",
    "loss_acc6 = history2.history['loss']\n",
    "validate_loss6 = history2.history['val_loss']\n",
    "\n",
    "epoch_3 = range(1,11)\n",
    "\n",
    "plt.plot(epoch_3,train_acc5,'r',label='Accuracy')\n",
    "plt.plot(epoch_3,validate_acc5,'b',label='Validation Accuracy')\n",
    "plt.plot(epoch_3,loss_acc6,'g',label='Loss')\n",
    "plt.plot(epoch_3,validate_loss6,'y',label='Validation Loss')\n",
    "plt.legend()\n",
    "plt.show()"
   ]
  },
  {
   "cell_type": "code",
   "execution_count": null,
   "metadata": {
    "colab": {
     "base_uri": "https://localhost:8080/",
     "height": 320
    },
    "id": "b_-wIcVfLSQq",
    "outputId": "a7ea11a1-440f-4e04-fcc0-0045904ef046"
   },
   "outputs": [
    {
     "data": {
      "image/png": "[encoded data removed]",
      "text/plain": [
       "<Figure size 576x360 with 1 Axes>"
      ]
     },
     "metadata": {
      "needs_background": "light"
     },
     "output_type": "display_data"
    }
   ],
   "source": [
    "import pandas as pd\n",
    "import matplotlib.pyplot as plt\n",
    "\n",
    "pd.DataFrame(history2.history).plot(figsize=(8, 5),color='rbcyk')\n",
    "plt.grid(True)\n",
    "plt.gca().set_ylim(-0.05, 1.70)\n",
    "plt.show()"
   ]
  },
  {
   "cell_type": "code",
   "execution_count": null,
   "metadata": {
    "colab": {
     "base_uri": "https://localhost:8080/"
    },
    "id": "oNatERbyLSXr",
    "outputId": "68e23c56-33f4-4e72-ac3a-00205dcc8242"
   },
   "outputs": [
    {
     "name": "stdout",
     "output_type": "stream",
     "text": [
      "[0.2877747118473053, 0.4079670310020447, 0.5467032790184021, 0.7026098966598511, 0.7980769276618958, 0.8392857313156128, 0.8756868243217468, 0.8942307829856873, 0.9107142686843872, 0.9258241653442383]\n",
      "[0.30684930086135864, 0.3369863033294678, 0.47123289108276367, 0.6876712441444397, 0.8109589219093323, 0.8602739572525024, 0.8904109597206116, 0.9041095972061157, 0.9178082346916199, 0.9260274171829224]\n",
      "[1.4192984104156494, 1.3068662881851196, 1.1664990186691284, 1.0151256322860718, 0.8313315510749817, 0.6556117534637451, 0.4908837676048279, 0.39254865050315857, 0.3192005753517151, 0.25470656156539917]\n",
      "[1.6477110385894775, 1.3389166593551636, 1.2325763702392578, 0.9691392183303833, 0.7056658864021301, 0.5115345120429993, 0.3900446593761444, 0.31990718841552734, 0.2749044895172119, 0.23853881657123566]\n"
     ]
    }
   ],
   "source": [
    "print(train_acc5)\n",
    "print(validate_acc5)\n",
    "print(loss_acc6)\n",
    "print(validate_loss6)"
   ]
  },
  {
   "cell_type": "markdown",
   "metadata": {
    "id": "OQwgJUQ58PTA"
   },
   "source": [
    "Models | Training Accuracy | Validation Accuracy | Training Time | Training Loss | Validation Loss |\n",
    "-|-|-|-|-|-|\n",
    "Base Model w/Aug |***0.8166*** | ***0.8274*** | ***2663 s*** | ***0.4495*** | ***0.4948*** |\n",
    "EfficientNetB1 |***0.9258*** | ***0.9260***|***5248 s*** |***0.2547*** |***0.2385*** |\n",
    "DenseNet201 |***0.9993*** |***0.9205*** | ***18345 s***| ***0.0163*** |***0.2588*** |"
   ]
  }
 ],
 "metadata": {
  "colab": {
   "collapsed_sections": [],
   "name": "PlantPatholodogy.ipynb",
   "provenance": []
  },
  "kernelspec": {
   "display_name": "Python 3 (ipykernel)",
   "language": "python",
   "name": "python3"
  },
  "language_info": {
   "codemirror_mode": {
    "name": "ipython",
    "version": 3
   },
   "file_extension": ".py",
   "mimetype": "text/x-python",
   "name": "python",
   "nbconvert_exporter": "python",
   "pygments_lexer": "ipython3",
   "version": "3.9.12"
  }
 },
 "nbformat": 4,
 "nbformat_minor": 1
}
